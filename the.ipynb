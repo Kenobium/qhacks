{
 "cells": [
  {
   "cell_type": "code",
   "execution_count": 3,
   "id": "initial_id",
   "metadata": {
    "collapsed": true,
    "ExecuteTime": {
     "end_time": "2024-04-06T17:07:31.794675Z",
     "start_time": "2024-04-06T17:07:28.604903Z"
    }
   },
   "outputs": [
    {
     "name": "stdout",
     "output_type": "stream",
     "text": [
      "Requirement already satisfied: qiskit in ./venv/lib/python3.12/site-packages (1.0.2)\r\n",
      "Requirement already satisfied: rustworkx>=0.14.0 in ./venv/lib/python3.12/site-packages (from qiskit) (0.14.2)\r\n",
      "Requirement already satisfied: numpy<2,>=1.17 in ./venv/lib/python3.12/site-packages (from qiskit) (1.26.4)\r\n",
      "Requirement already satisfied: scipy>=1.5 in ./venv/lib/python3.12/site-packages (from qiskit) (1.13.0)\r\n",
      "Requirement already satisfied: sympy>=1.3 in ./venv/lib/python3.12/site-packages (from qiskit) (1.12)\r\n",
      "Requirement already satisfied: dill>=0.3 in ./venv/lib/python3.12/site-packages (from qiskit) (0.3.8)\r\n",
      "Requirement already satisfied: python-dateutil>=2.8.0 in ./venv/lib/python3.12/site-packages (from qiskit) (2.9.0.post0)\r\n",
      "Requirement already satisfied: stevedore>=3.0.0 in ./venv/lib/python3.12/site-packages (from qiskit) (5.2.0)\r\n",
      "Requirement already satisfied: typing-extensions in ./venv/lib/python3.12/site-packages (from qiskit) (4.11.0)\r\n",
      "Requirement already satisfied: symengine>=0.11 in ./venv/lib/python3.12/site-packages (from qiskit) (0.11.0)\r\n",
      "Requirement already satisfied: six>=1.5 in ./venv/lib/python3.12/site-packages (from python-dateutil>=2.8.0->qiskit) (1.16.0)\r\n",
      "Requirement already satisfied: pbr!=2.1.0,>=2.0.0 in ./venv/lib/python3.12/site-packages (from stevedore>=3.0.0->qiskit) (6.0.0)\r\n",
      "Requirement already satisfied: mpmath>=0.19 in ./venv/lib/python3.12/site-packages (from sympy>=1.3->qiskit) (1.3.0)\r\n",
      "\r\n",
      "\u001B[1m[\u001B[0m\u001B[34;49mnotice\u001B[0m\u001B[1;39;49m]\u001B[0m\u001B[39;49m A new release of pip is available: \u001B[0m\u001B[31;49m23.2.1\u001B[0m\u001B[39;49m -> \u001B[0m\u001B[32;49m24.0\u001B[0m\r\n",
      "\u001B[1m[\u001B[0m\u001B[34;49mnotice\u001B[0m\u001B[1;39;49m]\u001B[0m\u001B[39;49m To update, run: \u001B[0m\u001B[32;49mpip install --upgrade pip\u001B[0m\r\n",
      "Requirement already satisfied: qiskit-ibm-runtime in ./venv/lib/python3.12/site-packages (0.22.0)\r\n",
      "Requirement already satisfied: requests>=2.19 in ./venv/lib/python3.12/site-packages (from qiskit-ibm-runtime) (2.31.0)\r\n",
      "Requirement already satisfied: requests-ntlm>=1.1.0 in ./venv/lib/python3.12/site-packages (from qiskit-ibm-runtime) (1.2.0)\r\n",
      "Requirement already satisfied: numpy>=1.13 in ./venv/lib/python3.12/site-packages (from qiskit-ibm-runtime) (1.26.4)\r\n",
      "Requirement already satisfied: urllib3>=1.21.1 in ./venv/lib/python3.12/site-packages (from qiskit-ibm-runtime) (2.2.1)\r\n",
      "Requirement already satisfied: python-dateutil>=2.8.0 in ./venv/lib/python3.12/site-packages (from qiskit-ibm-runtime) (2.9.0.post0)\r\n",
      "Requirement already satisfied: websocket-client>=1.5.1 in ./venv/lib/python3.12/site-packages (from qiskit-ibm-runtime) (1.7.0)\r\n",
      "Requirement already satisfied: ibm-platform-services>=0.22.6 in ./venv/lib/python3.12/site-packages (from qiskit-ibm-runtime) (0.53.2)\r\n",
      "Requirement already satisfied: pydantic in ./venv/lib/python3.12/site-packages (from qiskit-ibm-runtime) (2.6.4)\r\n",
      "Requirement already satisfied: qiskit>=1.0.0 in ./venv/lib/python3.12/site-packages (from qiskit-ibm-runtime) (1.0.2)\r\n",
      "Requirement already satisfied: ibm-cloud-sdk-core<4.0.0,>=3.19.2 in ./venv/lib/python3.12/site-packages (from ibm-platform-services>=0.22.6->qiskit-ibm-runtime) (3.19.2)\r\n",
      "Requirement already satisfied: six>=1.5 in ./venv/lib/python3.12/site-packages (from python-dateutil>=2.8.0->qiskit-ibm-runtime) (1.16.0)\r\n",
      "Requirement already satisfied: rustworkx>=0.14.0 in ./venv/lib/python3.12/site-packages (from qiskit>=1.0.0->qiskit-ibm-runtime) (0.14.2)\r\n",
      "Requirement already satisfied: scipy>=1.5 in ./venv/lib/python3.12/site-packages (from qiskit>=1.0.0->qiskit-ibm-runtime) (1.13.0)\r\n",
      "Requirement already satisfied: sympy>=1.3 in ./venv/lib/python3.12/site-packages (from qiskit>=1.0.0->qiskit-ibm-runtime) (1.12)\r\n",
      "Requirement already satisfied: dill>=0.3 in ./venv/lib/python3.12/site-packages (from qiskit>=1.0.0->qiskit-ibm-runtime) (0.3.8)\r\n",
      "Requirement already satisfied: stevedore>=3.0.0 in ./venv/lib/python3.12/site-packages (from qiskit>=1.0.0->qiskit-ibm-runtime) (5.2.0)\r\n",
      "Requirement already satisfied: typing-extensions in ./venv/lib/python3.12/site-packages (from qiskit>=1.0.0->qiskit-ibm-runtime) (4.11.0)\r\n",
      "Requirement already satisfied: symengine>=0.11 in ./venv/lib/python3.12/site-packages (from qiskit>=1.0.0->qiskit-ibm-runtime) (0.11.0)\r\n",
      "Requirement already satisfied: charset-normalizer<4,>=2 in ./venv/lib/python3.12/site-packages (from requests>=2.19->qiskit-ibm-runtime) (3.3.2)\r\n",
      "Requirement already satisfied: idna<4,>=2.5 in ./venv/lib/python3.12/site-packages (from requests>=2.19->qiskit-ibm-runtime) (3.6)\r\n",
      "Requirement already satisfied: certifi>=2017.4.17 in ./venv/lib/python3.12/site-packages (from requests>=2.19->qiskit-ibm-runtime) (2024.2.2)\r\n",
      "Requirement already satisfied: cryptography>=1.3 in ./venv/lib/python3.12/site-packages (from requests-ntlm>=1.1.0->qiskit-ibm-runtime) (42.0.5)\r\n",
      "Requirement already satisfied: pyspnego>=0.1.6 in ./venv/lib/python3.12/site-packages (from requests-ntlm>=1.1.0->qiskit-ibm-runtime) (0.10.2)\r\n",
      "Requirement already satisfied: annotated-types>=0.4.0 in ./venv/lib/python3.12/site-packages (from pydantic->qiskit-ibm-runtime) (0.6.0)\r\n",
      "Requirement already satisfied: pydantic-core==2.16.3 in ./venv/lib/python3.12/site-packages (from pydantic->qiskit-ibm-runtime) (2.16.3)\r\n",
      "Requirement already satisfied: cffi>=1.12 in ./venv/lib/python3.12/site-packages (from cryptography>=1.3->requests-ntlm>=1.1.0->qiskit-ibm-runtime) (1.16.0)\r\n",
      "Requirement already satisfied: PyJWT<3.0.0,>=2.8.0 in ./venv/lib/python3.12/site-packages (from ibm-cloud-sdk-core<4.0.0,>=3.19.2->ibm-platform-services>=0.22.6->qiskit-ibm-runtime) (2.8.0)\r\n",
      "Requirement already satisfied: pbr!=2.1.0,>=2.0.0 in ./venv/lib/python3.12/site-packages (from stevedore>=3.0.0->qiskit>=1.0.0->qiskit-ibm-runtime) (6.0.0)\r\n",
      "Requirement already satisfied: mpmath>=0.19 in ./venv/lib/python3.12/site-packages (from sympy>=1.3->qiskit>=1.0.0->qiskit-ibm-runtime) (1.3.0)\r\n",
      "Requirement already satisfied: pycparser in ./venv/lib/python3.12/site-packages (from cffi>=1.12->cryptography>=1.3->requests-ntlm>=1.1.0->qiskit-ibm-runtime) (2.22)\r\n",
      "\r\n",
      "\u001B[1m[\u001B[0m\u001B[34;49mnotice\u001B[0m\u001B[1;39;49m]\u001B[0m\u001B[39;49m A new release of pip is available: \u001B[0m\u001B[31;49m23.2.1\u001B[0m\u001B[39;49m -> \u001B[0m\u001B[32;49m24.0\u001B[0m\r\n",
      "\u001B[1m[\u001B[0m\u001B[34;49mnotice\u001B[0m\u001B[1;39;49m]\u001B[0m\u001B[39;49m To update, run: \u001B[0m\u001B[32;49mpip install --upgrade pip\u001B[0m\r\n",
      "Collecting rsa\r\n",
      "  Obtaining dependency information for rsa from https://files.pythonhosted.org/packages/49/97/fa78e3d2f65c02c8e1268b9aba606569fe97f6c8f7c2d74394553347c145/rsa-4.9-py3-none-any.whl.metadata\r\n",
      "  Downloading rsa-4.9-py3-none-any.whl.metadata (4.2 kB)\r\n",
      "Collecting pyasn1>=0.1.3 (from rsa)\r\n",
      "  Obtaining dependency information for pyasn1>=0.1.3 from https://files.pythonhosted.org/packages/23/7e/5f50d07d5e70a2addbccd90ac2950f81d1edd0783630651d9268d7f1db49/pyasn1-0.6.0-py2.py3-none-any.whl.metadata\r\n",
      "  Downloading pyasn1-0.6.0-py2.py3-none-any.whl.metadata (8.3 kB)\r\n",
      "Downloading rsa-4.9-py3-none-any.whl (34 kB)\r\n",
      "Downloading pyasn1-0.6.0-py2.py3-none-any.whl (85 kB)\r\n",
      "\u001B[2K   \u001B[90m━━━━━━━━━━━━━━━━━━━━━━━━━━━━━━━━━━━━━━━━\u001B[0m \u001B[32m85.3/85.3 kB\u001B[0m \u001B[31m3.1 MB/s\u001B[0m eta \u001B[36m0:00:00\u001B[0m\r\n",
      "\u001B[?25hInstalling collected packages: pyasn1, rsa\r\n",
      "Successfully installed pyasn1-0.6.0 rsa-4.9\r\n",
      "\r\n",
      "\u001B[1m[\u001B[0m\u001B[34;49mnotice\u001B[0m\u001B[1;39;49m]\u001B[0m\u001B[39;49m A new release of pip is available: \u001B[0m\u001B[31;49m23.2.1\u001B[0m\u001B[39;49m -> \u001B[0m\u001B[32;49m24.0\u001B[0m\r\n",
      "\u001B[1m[\u001B[0m\u001B[34;49mnotice\u001B[0m\u001B[1;39;49m]\u001B[0m\u001B[39;49m To update, run: \u001B[0m\u001B[32;49mpip install --upgrade pip\u001B[0m\r\n"
     ]
    }
   ],
   "source": [
    "# Installs \n",
    "!pip install qiskit\n",
    "!pip install qiskit-ibm-runtime\n",
    "!pip install rsa"
   ]
  },
  {
   "cell_type": "code",
   "outputs": [],
   "source": [
    "# Imports\n",
    "import rsa"
   ],
   "metadata": {
    "collapsed": false,
    "ExecuteTime": {
     "end_time": "2024-04-06T17:08:03.179947Z",
     "start_time": "2024-04-06T17:08:03.163848Z"
    }
   },
   "id": "6ead599051def169",
   "execution_count": 5
  },
  {
   "cell_type": "code",
   "outputs": [
    {
     "name": "stdout",
     "output_type": "stream",
     "text": [
      "p: 54955383289509431419196376244819905011053\n",
      "q: 1089627765335079113638002760963202383\n",
      "e: 65537\n",
      "n (public key): 59880911486880910826005254297318911284246373572531451079953768418759890939299\n",
      "d (private key): 16376177984640227119558297950331062544250772684806530017498527641027841132729\n"
     ]
    }
   ],
   "source": [
    "# Generate an RSA keypair\n",
    "(pubkey, privkey) = rsa.newkeys(256)\n",
    "print(f'p: {privkey.p}')\n",
    "print(f'q: {privkey.q}')\n",
    "print(f'e: {privkey.e}')\n",
    "print(f'n (public key): {privkey.n}')\n",
    "print(f'd (private key): {privkey.d}')"
   ],
   "metadata": {
    "collapsed": false,
    "ExecuteTime": {
     "end_time": "2024-04-06T17:37:59.745322Z",
     "start_time": "2024-04-06T17:37:59.698901Z"
    }
   },
   "id": "df9d530a33678037",
   "execution_count": 11
  },
  {
   "cell_type": "code",
   "outputs": [
    {
     "name": "stdout",
     "output_type": "stream",
     "text": [
      "Encrypted: b'a\\x98\\xac2\\x8eL&F\\xe0C\\x8cl\\xdax.o\\r\\x14\\x00\\xc7\\x8f\\x8e\\xd7\\x8c\\x97\\xa8\\xb6\\nT\\xba\\x8fi'\n",
      "Decrypted: Hello, World!\n"
     ]
    }
   ],
   "source": [
    "text = 'Hello, World!'\n",
    "enc = rsa.encrypt(text.encode(), pubkey)\n",
    "print(f'Encrypted: {enc}')\n",
    "dec = rsa.decrypt(enc, privkey).decode()\n",
    "print(f'Decrypted: {dec}')"
   ],
   "metadata": {
    "collapsed": false,
    "ExecuteTime": {
     "end_time": "2024-04-06T17:39:34.545934Z",
     "start_time": "2024-04-06T17:39:34.542517Z"
    }
   },
   "id": "b7427f90d7221cbb",
   "execution_count": 14
  },
  {
   "cell_type": "code",
   "outputs": [],
   "source": [],
   "metadata": {
    "collapsed": false
   },
   "id": "4dfcb30e03a89399"
  }
 ],
 "metadata": {
  "kernelspec": {
   "display_name": "Python 3",
   "language": "python",
   "name": "python3"
  },
  "language_info": {
   "codemirror_mode": {
    "name": "ipython",
    "version": 2
   },
   "file_extension": ".py",
   "mimetype": "text/x-python",
   "name": "python",
   "nbconvert_exporter": "python",
   "pygments_lexer": "ipython2",
   "version": "2.7.6"
  }
 },
 "nbformat": 4,
 "nbformat_minor": 5
}
