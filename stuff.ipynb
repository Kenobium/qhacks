{
 "cells": [
  {
   "cell_type": "code",
   "execution_count": 433,
   "metadata": {},
   "outputs": [],
   "source": [
    "from qiskit import QuantumRegister, ClassicalRegister, QuantumCircuit \n",
    "from qiskit.quantum_info.operators import Operator\n",
    "import numpy as np\n",
    "import scipy.linalg as la"
   ]
  },
  {
   "cell_type": "code",
   "execution_count": 434,
   "metadata": {},
   "outputs": [],
   "source": [
    "# from qiskit import QuantumCircuit, QuantumRegister\n",
    "# import numpy as np\n",
    "\n",
    "# def prepare_quantum_state(probabilities):\n",
    "#     num_states = len(probabilities)\n",
    "#     num_qubits = int(np.ceil(np.log2(num_states)))\n",
    "    \n",
    "#     # Create a quantum circuit with the required number of qubits\n",
    "#     qr = QuantumRegister(num_qubits)\n",
    "#     qc = QuantumCircuit(qr)\n",
    "    \n",
    "#     # Calculate the amplitudes based on the probabilities\n",
    "#     amplitudes = np.sqrt(probabilities)\n",
    "    \n",
    "#     # Normalize the amplitudes\n",
    "#     amplitudes /= np.linalg.norm(amplitudes)\n",
    "    \n",
    "#     # Apply state preparation gates\n",
    "#     for i in range(num_states):\n",
    "#         binary = np.binary_repr(i, width=num_qubits)\n",
    "#         for j in range(num_qubits):\n",
    "#             if binary[j] == '1':\n",
    "#                 qc.ry(2 * np.arccos(amplitudes[i]), qr[j])\n",
    "#             else:\n",
    "#                 qc.ry(2 * np.arcsin(amplitudes[i]), qr[j])\n",
    "#     qc.measure_all()\n",
    "#     return qc\n",
    "\n",
    "# # Example usage\n",
    "# probabilities = [0.2, 0.3, 0.1, 0.4]\n",
    "# qc = prepare_quantum_state(probabilities)\n",
    "# qc.draw()"
   ]
  },
  {
   "cell_type": "code",
   "execution_count": 435,
   "metadata": {},
   "outputs": [],
   "source": [
    "# from qiskit_aer import AerSimulator\n",
    "# from qiskit.circuit import QuantumCircuit\n",
    "# from qiskit.transpiler.preset_passmanagers import generate_preset_pass_manager\n",
    "# from qiskit_ibm_runtime import Session, SamplerV2 as Sampler\n",
    " \n",
    "# aer = AerSimulator()\n",
    "\n",
    "# aer.run(qc).result().get_counts()\n"
   ]
  },
  {
   "cell_type": "code",
   "execution_count": 436,
   "metadata": {},
   "outputs": [],
   "source": [
    "vals = {\n",
    "    1: 0.2,\n",
    "    3: 0.35,\n",
    "    7: 0.45\n",
    "}"
   ]
  },
  {
   "cell_type": "code",
   "execution_count": 437,
   "metadata": {},
   "outputs": [
    {
     "name": "stdout",
     "output_type": "stream",
     "text": [
      "3\n"
     ]
    }
   ],
   "source": [
    "max_val = max(vals.keys())\n",
    "nbits = len(bin(max_val)) - 2\n",
    "print(nbits)"
   ]
  },
  {
   "cell_type": "code",
   "execution_count": 438,
   "metadata": {},
   "outputs": [],
   "source": [
    "# # Create a quantum circuit with two qubits\n",
    "# qc = QuantumCircuit(nbits)\n",
    "\n",
    "# # Convert the desired probabilities to a state vector\n",
    "# state_vector = [np.sqrt(p) for p in vals.values()]\n",
    "# state_vector = np.array(state_vector) * np.exp(1j * 0)  # Add a global phase factor of 0\n",
    "\n",
    "# # Initialize the circuit to the desired state\n",
    "# qc.initialize(state_vector, [0, 1])\n",
    "\n",
    "# qc.measure_all()\n",
    "\n",
    "# # Draw the circuit\n",
    "# qc.draw()"
   ]
  },
  {
   "cell_type": "code",
   "execution_count": 439,
   "metadata": {},
   "outputs": [],
   "source": [
    "# from qiskit_aer import AerSimulator\n",
    " \n",
    "# aer = AerSimulator()\n",
    "\n",
    "# counts = aer.run(qc).result().get_counts()\n",
    "# dict(counts)\n",
    "# for k, v in counts.items():\n",
    "#     print(int(k, 2), v/1024)"
   ]
  },
  {
   "cell_type": "code",
   "execution_count": 440,
   "metadata": {},
   "outputs": [],
   "source": [
    "qreg_q = QuantumRegister(nbits, 'q')\n",
    "# creg_c = ClassicalRegister(1, 'c')\n",
    "qc = QuantumCircuit(qreg_q)"
   ]
  },
  {
   "cell_type": "code",
   "execution_count": 441,
   "metadata": {},
   "outputs": [],
   "source": [
    "def create_unitary(v):\n",
    "    dim = v.size\n",
    "    # Return identity if v is a multiple of e1\n",
    "    if v[0][0] and not np.any(v[0][1:]):\n",
    "        return np.identity(dim)\n",
    "    e1 = np.zeros(dim)\n",
    "    e1[0] = 1\n",
    "    w = v/np.linalg.norm(v) - e1\n",
    "    return np.identity(dim) - 2*((np.dot(w.T, w))/(np.dot(w, w.T)))"
   ]
  },
  {
   "cell_type": "code",
   "execution_count": 442,
   "metadata": {},
   "outputs": [],
   "source": [
    "def unitary_from_column(column_vector):\n",
    "    \"\"\"\n",
    "    Constructs a unitary matrix with the given column vector as the first column.\n",
    "    \n",
    "    Args:\n",
    "        column_vector (numpy.ndarray): A column vector.\n",
    "        \n",
    "    Returns:\n",
    "        numpy.ndarray: A unitary matrix with the given column vector as the first column.\n",
    "    \"\"\"\n",
    "    n = len(column_vector)\n",
    "    \n",
    "    # Normalize the column vector\n",
    "    u1 = column_vector / np.linalg.norm(column_vector)\n",
    "    \n",
    "    # Initialize the unitary matrix with the first column\n",
    "    unitary_matrix = np.array([u1]).T\n",
    "    \n",
    "    # Construct the remaining columns using the Gram-Schmidt process\n",
    "    for j in range(1, n):\n",
    "        v = np.random.randn(n)  # Start with a random vector\n",
    "        for i in range(j):\n",
    "            proj = np.dot(unitary_matrix[:, i], v) * unitary_matrix[:, i]\n",
    "            v = v - proj\n",
    "        uj = v / np.linalg.norm(v)\n",
    "        unitary_matrix = np.c_[unitary_matrix, uj]\n",
    "    \n",
    "    return unitary_matrix"
   ]
  },
  {
   "cell_type": "code",
   "execution_count": 443,
   "metadata": {},
   "outputs": [
    {
     "name": "stdout",
     "output_type": "stream",
     "text": [
      "[[ 0.         -0.11876701  0.42961347  0.47017084  0.0373914   0.26862134\n",
      "   0.61825711 -0.35280115]\n",
      " [ 0.4472136  -0.44839393 -0.30213282  0.03949407 -0.12232104 -0.00092011\n",
      "  -0.26795163 -0.64756274]\n",
      " [ 0.          0.43007703  0.44492545  0.10319344 -0.6115937   0.09012013\n",
      "  -0.42564293 -0.20757125]\n",
      " [ 0.59160798  0.47238782 -0.08054492  0.4746805   0.29922622 -0.30389609\n",
      "  -0.03873397  0.10794076]\n",
      " [ 0.         -0.08276773  0.28908417  0.05671727  0.59061997  0.5399749\n",
      "  -0.51502132  0.02666837]\n",
      " [ 0.         -0.57113294  0.14143398  0.51038103 -0.25460474 -0.17308511\n",
      "  -0.22017629  0.50005516]\n",
      " [ 0.         -0.17271197  0.58471916 -0.28233962  0.27046425 -0.65854139\n",
      "  -0.06543521 -0.1935174 ]\n",
      " [ 0.67082039 -0.11767761  0.27245582 -0.44495823 -0.18234536  0.26862456\n",
      "   0.21279457  0.33651369]]\n",
      "(8, 8)\n"
     ]
    }
   ],
   "source": [
    "v = np.array([np.sqrt(vals.get(i, 0)) for i in range(2**nbits)])\n",
    "unitary = unitary_from_column(v)\n",
    "print(unitary)\n",
    "op = Operator(unitary)\n",
    "print(unitary.shape)"
   ]
  },
  {
   "cell_type": "code",
   "execution_count": 444,
   "metadata": {},
   "outputs": [
    {
     "data": {
      "text/plain": [
       "True"
      ]
     },
     "execution_count": 444,
     "metadata": {},
     "output_type": "execute_result"
    }
   ],
   "source": [
    "def is_unitary(matrix):\n",
    "    \"\"\"\n",
    "    Checks if a given matrix is unitary.\n",
    "    \n",
    "    Args:\n",
    "        matrix (numpy.ndarray): The input matrix.\n",
    "        \n",
    "    Returns:\n",
    "        bool: True if the matrix is unitary, False otherwise.\n",
    "    \"\"\"\n",
    "    # Check if the matrix is square\n",
    "    if matrix.shape[0] != matrix.shape[1]:\n",
    "        print(\"not square\")\n",
    "        return False\n",
    "    \n",
    "    # Compute the inverse and conjugate transpose\n",
    "    try:\n",
    "        inv_matrix = np.linalg.inv(matrix)\n",
    "        conj_trans_matrix = np.conj(matrix.T)\n",
    "    except np.linalg.LinAlgError:\n",
    "        # If the matrix is not invertible, it cannot be unitary\n",
    "        print(\"not invertible\")\n",
    "        return False\n",
    "    \n",
    "    # Check if the inverse is equal to the conjugate transpose\n",
    "    if np.allclose(inv_matrix, conj_trans_matrix):\n",
    "        return True\n",
    "    else:\n",
    "        print(\"not equal\")\n",
    "        return False\n",
    "    \n",
    "is_unitary(unitary)"
   ]
  },
  {
   "cell_type": "code",
   "execution_count": 445,
   "metadata": {},
   "outputs": [
    {
     "data": {
      "image/png": "[encoded data removed]",
      "text/plain": [
       "<Figure size 663.998x367.889 with 1 Axes>"
      ]
     },
     "execution_count": 445,
     "metadata": {},
     "output_type": "execute_result"
    }
   ],
   "source": [
    "qc.append(op, qreg_q)\n",
    "qc.measure_all()\n",
    "qc.draw()"
   ]
  },
  {
   "cell_type": "code",
   "execution_count": 458,
   "metadata": {},
   "outputs": [
    {
     "name": "stdout",
     "output_type": "stream",
     "text": [
      "1 0.1728515625\n",
      "3 0.3662109375\n",
      "7 0.4609375\n"
     ]
    }
   ],
   "source": [
    "from qiskit_aer import AerSimulator\n",
    " \n",
    "aer = AerSimulator()\n",
    "\n",
    "counts = aer.run(qc).result().get_counts()\n",
    "dict(counts)\n",
    "for k, v in counts.items():\n",
    "    print(int(k, 2), v/1024)"
   ]
  },
  {
   "cell_type": "code",
   "execution_count": 450,
   "metadata": {},
   "outputs": [
    {
     "name": "stdout",
     "output_type": "stream",
     "text": [
      "[[0. 0. 1.]\n",
      " [0. 1. 1.]\n",
      " [1. 1. 1.]]\n"
     ]
    },
    {
     "data": {
      "text/plain": [
       "array([0.33333333, 0.66666667, 1.        ])"
      ]
     },
     "execution_count": 450,
     "metadata": {},
     "output_type": "execute_result"
    }
   ],
   "source": [
    "df = np.empty((len(vals), nbits))\n",
    "keys = list(vals.keys())\n",
    "for i in range(len(vals)):\n",
    "    df[i] = list(f'{keys[i]:>0{nbits}b}')\n",
    "print(df)\n",
    "sums = np.sum(df, axis=0)\n",
    "p = sums / len(vals)\n",
    "p"
   ]
  },
  {
   "cell_type": "code",
   "execution_count": 451,
   "metadata": {},
   "outputs": [
    {
     "data": {
      "image/png": "[encoded data removed]",
      "text/plain": [
       "<Figure size 831.22x367.889 with 1 Axes>"
      ]
     },
     "execution_count": 451,
     "metadata": {},
     "output_type": "execute_result"
    }
   ],
   "source": [
    "for i in range(nbits):\n",
    "    if p[i] == 0:\n",
    "        continue\n",
    "    qc.ry(2 * np.arccos(p[i]), i)\n",
    "qc.draw()"
   ]
  },
  {
   "cell_type": "code",
   "execution_count": null,
   "metadata": {},
   "outputs": [],
   "source": []
  }
 ],
 "metadata": {
  "kernelspec": {
   "display_name": ".venv",
   "language": "python",
   "name": "python3"
  },
  "language_info": {
   "codemirror_mode": {
    "name": "ipython",
    "version": 3
   },
   "file_extension": ".py",
   "mimetype": "text/x-python",
   "name": "python",
   "nbconvert_exporter": "python",
   "pygments_lexer": "ipython3",
   "version": "3.12.1"
  }
 },
 "nbformat": 4,
 "nbformat_minor": 2
}
