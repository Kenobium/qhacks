{
 "cells": [
  {
   "cell_type": "code",
   "execution_count": 1,
   "id": "6ead599051def169",
   "metadata": {
    "ExecuteTime": {
     "end_time": "2024-04-06T18:26:22.614229Z",
     "start_time": "2024-04-06T18:26:22.610174Z"
    },
    "collapsed": false
   },
   "outputs": [],
   "source": [
    "# Imports\n",
    "import sys\n",
    "import rsa\n",
    "from cypari import pari\n",
    "from primefac import primefac"
   ]
  },
  {
   "cell_type": "code",
   "execution_count": 29,
   "id": "fe0290f24e267442",
   "metadata": {
    "ExecuteTime": {
     "end_time": "2024-04-06T18:26:22.615008Z",
     "start_time": "2024-04-06T18:26:22.613221Z"
    },
    "collapsed": false
   },
   "outputs": [],
   "source": [
    "sys.setrecursionlimit(10000)"
   ]
  },
  {
   "cell_type": "code",
   "execution_count": 41,
   "id": "df9d530a33678037",
   "metadata": {
    "ExecuteTime": {
     "end_time": "2024-04-06T18:26:22.623445Z",
     "start_time": "2024-04-06T18:26:22.618056Z"
    },
    "collapsed": false
   },
   "outputs": [
    {
     "name": "stdout",
     "output_type": "stream",
     "text": [
      "p: 258817491667467544381\n",
      "q: 1019781463788899939\n",
      "e: 65537\n",
      "n (public key): 263937280506821465302471763449650692759\n",
      "d (private key): 173161897095561324632469523783816737113\n"
     ]
    }
   ],
   "source": [
    "# Generate an RSA keypair\n",
    "(pubkey, privkey) = rsa.newkeys(128)\n",
    "print(f'p: {privkey.p}')\n",
    "print(f'q: {privkey.q}')\n",
    "print(f'e: {privkey.e}')\n",
    "print(f'n (public key): {privkey.n}')\n",
    "print(f'd (private key): {privkey.d}')"
   ]
  },
  {
   "cell_type": "code",
   "execution_count": 42,
   "id": "b7427f90d7221cbb",
   "metadata": {
    "ExecuteTime": {
     "end_time": "2024-04-06T18:26:22.629568Z",
     "start_time": "2024-04-06T18:26:22.624178Z"
    },
    "collapsed": false
   },
   "outputs": [
    {
     "name": "stdout",
     "output_type": "stream",
     "text": [
      "Encrypted: b'\\x14\\x93\\xdaK\\xeb\\x83\\xfflL\\xacy\\x8e\\x83\\xfe\\x0f\\x94'\n",
      "Decrypted: Hello\n"
     ]
    }
   ],
   "source": [
    "text = 'Hello'\n",
    "enc = rsa.encrypt(text.encode(), pubkey)\n",
    "print(f'Encrypted: {enc}')\n",
    "dec = rsa.decrypt(enc, privkey).decode()\n",
    "print(f'Decrypted: {dec}')"
   ]
  },
  {
   "cell_type": "code",
   "execution_count": 43,
   "id": "4dfcb30e03a89399",
   "metadata": {
    "ExecuteTime": {
     "end_time": "2024-04-06T18:26:22.745709Z",
     "start_time": "2024-04-06T18:26:22.626809Z"
    },
    "collapsed": false
   },
   "outputs": [
    {
     "name": "stdout",
     "output_type": "stream",
     "text": [
      "39\n"
     ]
    }
   ],
   "source": [
    "# Attempt to factorize\n",
    "n = privkey.n\n",
    "print(len(str(n)))\n",
    "pari.factor(n)"
   ]
  },
  {
   "cell_type": "code",
   "execution_count": null,
   "id": "89652efa",
   "metadata": {},
   "outputs": [],
   "source": []
  }
 ],
 "metadata": {
  "kernelspec": {
   "display_name": "Python 3",
   "language": "python",
   "name": "python3"
  },
  "language_info": {
   "codemirror_mode": {
    "name": "ipython",
    "version": 3
   },
   "file_extension": ".py",
   "mimetype": "text/x-python",
   "name": "python",
   "nbconvert_exporter": "python",
   "pygments_lexer": "ipython3",
   "version": "3.12.1"
  }
 },
 "nbformat": 4,
 "nbformat_minor": 5
}
